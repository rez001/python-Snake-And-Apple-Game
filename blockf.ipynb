{
 "cells": [
  {
   "cell_type": "code",
   "execution_count": 1,
   "id": "68dc16f7",
   "metadata": {},
   "outputs": [
    {
     "name": "stdout",
     "output_type": "stream",
     "text": [
      "pygame 2.0.1 (SDL 2.0.14, Python 3.8.8)\n",
      "Hello from the pygame community. https://www.pygame.org/contribute.html\n"
     ]
    }
   ],
   "source": [
    "import pygame\n",
    "from pygame.locals import *\n",
    "\n",
    "def draw_block():\n",
    "    surface.fill((2,46,117))\n",
    "    surface.blit(block, (block_x, block_y))\n",
    "    pygame.display.flip()\n",
    "\n",
    "if __name__ == '__main__':\n",
    "    pygame.init()\n",
    "\n",
    "    surface = pygame.display.set_mode((500, 500))\n",
    "    surface.fill((2,46,117))\n",
    "\n",
    "    block = pygame.image.load(\"C:\\\\Users\\\\Rezwan\\\\Desktop\\\\proj\\\\pic\\\\apple.PNG\").convert()\n",
    "\n",
    "    block_x, block_y = 100, 100\n",
    "\n",
    "    surface.blit(block, (block_x, block_y))\n",
    "\n",
    "    pygame.display.flip()\n",
    "\n",
    "    running = True\n",
    "\n",
    "    while running:\n",
    "        for event in pygame.event.get():\n",
    "            if event.type == KEYDOWN:\n",
    "                if event.key == K_ESCAPE:\n",
    "                    running = False\n",
    "                if event.key == K_LEFT:\n",
    "                    block_x -= 10\n",
    "                    draw_block()\n",
    "                if event.key == K_RIGHT:\n",
    "                    block_x += 10\n",
    "                    draw_block()\n",
    "                if event.key == K_UP:\n",
    "                    block_y -= 10\n",
    "                    draw_block()\n",
    "                if event.key == K_DOWN:\n",
    "                    block_y += 10\n",
    "                    draw_block()\n",
    "\n",
    "            elif event.type == QUIT:\n",
    "                running = False"
   ]
  },
  {
   "cell_type": "code",
   "execution_count": null,
   "id": "42bab4d3",
   "metadata": {},
   "outputs": [],
   "source": []
  }
 ],
 "metadata": {
  "kernelspec": {
   "display_name": "Python 3",
   "language": "python",
   "name": "python3"
  },
  "language_info": {
   "codemirror_mode": {
    "name": "ipython",
    "version": 3
   },
   "file_extension": ".py",
   "mimetype": "text/x-python",
   "name": "python",
   "nbconvert_exporter": "python",
   "pygments_lexer": "ipython3",
   "version": "3.8.8"
  }
 },
 "nbformat": 4,
 "nbformat_minor": 5
}
